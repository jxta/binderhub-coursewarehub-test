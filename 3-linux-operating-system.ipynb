{
 "cells": [
  {
   "cell_type": "markdown",
   "metadata": {
    "lc_cell_meme": {
     "current": "67cd5634-6586-11e9-b810-02420a00005a",
     "next": "67cd56a2-6586-11e9-b810-02420a00005a",
     "previous": null
    }
   },
   "source": [
    "**Linuxコマンドを使ってみよう** （Jupyter notebookのcell内では　**!**の後にLinuxコマンドを書くとコマンドが実行できる。）"
   ]
  },
  {
   "cell_type": "markdown",
   "metadata": {
    "lc_cell_meme": {
     "current": "67cd56a2-6586-11e9-b810-02420a00005a",
     "next": "67cd56de-6586-11e9-b810-02420a00005a",
     "previous": "67cd5634-6586-11e9-b810-02420a00005a"
    }
   },
   "source": [
    "**curlコマンドをインストール**"
   ]
  },
  {
   "cell_type": "code",
   "execution_count": null,
   "metadata": {
    "lc_cell_meme": {
     "current": "67cd56de-6586-11e9-b810-02420a00005a",
     "next": "67cd5710-6586-11e9-b810-02420a00005a",
     "previous": "67cd56a2-6586-11e9-b810-02420a00005a"
    }
   },
   "outputs": [],
   "source": [
    "!sudo apt-get update; sudo apt-get install curl -y"
   ]
  },
  {
   "cell_type": "markdown",
   "metadata": {
    "lc_cell_meme": {
     "current": "67cd5710-6586-11e9-b810-02420a00005a",
     "next": "67cd5742-6586-11e9-b810-02420a00005a",
     "previous": "67cd56de-6586-11e9-b810-02420a00005a"
    }
   },
   "source": [
    "**出席管理用　etherpad https://etherpad.openstack.org/p/2019-cloud-ac から　curlコマンドで情報を取得**"
   ]
  },
  {
   "cell_type": "code",
   "execution_count": null,
   "metadata": {
    "lc_cell_meme": {
     "current": "67cd5742-6586-11e9-b810-02420a00005a",
     "next": "67cd576a-6586-11e9-b810-02420a00005a",
     "previous": "67cd5710-6586-11e9-b810-02420a00005a"
    }
   },
   "outputs": [],
   "source": [
    "!curl https://etherpad.openstack.org/p/2019-cloud-ac/export/txt"
   ]
  },
  {
   "cell_type": "markdown",
   "metadata": {
    "lc_cell_meme": {
     "current": "67cd576a-6586-11e9-b810-02420a00005a",
     "next": "67cd579c-6586-11e9-b810-02420a00005a",
     "previous": "67cd5742-6586-11e9-b810-02420a00005a"
    }
   },
   "source": [
    "**cutコマンドで　1列目の情報だけを取り出す。　二つのコマンド（curlとcut）で pipeを通じて　データを受け渡している。pipeは　| で示す。**"
   ]
  },
  {
   "cell_type": "code",
   "execution_count": null,
   "metadata": {
    "lc_cell_meme": {
     "current": "67cd579c-6586-11e9-b810-02420a00005a",
     "next": "67cd57ce-6586-11e9-b810-02420a00005a",
     "previous": "67cd576a-6586-11e9-b810-02420a00005a"
    }
   },
   "outputs": [],
   "source": [
    "!curl https://etherpad.openstack.org/p/2019-cloud-ac/export/txt|cut -c1-8 "
   ]
  },
  {
   "cell_type": "markdown",
   "metadata": {
    "lc_cell_meme": {
     "current": "67cd57ce-6586-11e9-b810-02420a00005a",
     "next": "67cd5800-6586-11e9-b810-02420a00005a",
     "previous": "67cd579c-6586-11e9-b810-02420a00005a"
    }
   },
   "source": [
    "**curlコマンドが出力する**　<br>\n",
    "% Total    % Received % Xferd  Average Speed   Time    Time     Time  Current<br>\n",
    "                                 Dload  Upload   Total   Spent    Left  Speed<br>\n",
    "100  1745  100  1745    0     0   1994      0 --:--:-- --:--:-- --:--:--  2008<br>\n",
    "**を　/dev/null　に捨ててデータから消す。**"
   ]
  },
  {
   "cell_type": "code",
   "execution_count": null,
   "metadata": {
    "lc_cell_meme": {
     "current": "67cd5800-6586-11e9-b810-02420a00005a",
     "next": "67cd5832-6586-11e9-b810-02420a00005a",
     "previous": "67cd57ce-6586-11e9-b810-02420a00005a"
    }
   },
   "outputs": [],
   "source": [
    "!(curl https://etherpad.openstack.org/p/2019-cloud-ac/export/txt 2> /dev/null)|cut -c1-8 "
   ]
  },
  {
   "cell_type": "markdown",
   "metadata": {
    "lc_cell_meme": {
     "current": "67cd5832-6586-11e9-b810-02420a00005a",
     "next": "67cd585a-6586-11e9-b810-02420a00005a",
     "previous": "67cd5800-6586-11e9-b810-02420a00005a"
    }
   },
   "source": [
    "**その週の部分だけを　headコマンドにより取り出す。　head --26 で最初の 26行だけを取り出すことを示す。**"
   ]
  },
  {
   "cell_type": "code",
   "execution_count": null,
   "metadata": {
    "lc_cell_meme": {
     "current": "67cd585a-6586-11e9-b810-02420a00005a",
     "next": "67cd588c-6586-11e9-b810-02420a00005a",
     "previous": "67cd5832-6586-11e9-b810-02420a00005a"
    }
   },
   "outputs": [],
   "source": [
    "!(curl https://etherpad.openstack.org/p/2019-cloud-ac/export/txt 2> /dev/null)|cut -c1-8 |head -26"
   ]
  },
  {
   "cell_type": "markdown",
   "metadata": {
    "lc_cell_meme": {
     "current": "67cd588c-6586-11e9-b810-02420a00005a",
     "next": "67cd58be-6586-11e9-b810-02420a00005a",
     "previous": "67cd585a-6586-11e9-b810-02420a00005a"
    }
   },
   "source": [
    "**出席情報の本体だけ残すために　tailコマンドで後ろから　15行残す。さらに　trコマンドで小文字を全部大文字に変換して記法を揃える**"
   ]
  },
  {
   "cell_type": "code",
   "execution_count": null,
   "metadata": {
    "lc_cell_meme": {
     "current": "67cd58be-6586-11e9-b810-02420a00005a",
     "next": "67cd58f0-6586-11e9-b810-02420a00005a",
     "previous": "67cd588c-6586-11e9-b810-02420a00005a"
    }
   },
   "outputs": [],
   "source": [
    "!(curl https://etherpad.openstack.org/p/2019-cloud-ac/export/txt 2> /dev/null)|cut -c1-8 |head -26|tail -15|tr [A-Z] [a-z]"
   ]
  },
  {
   "cell_type": "markdown",
   "metadata": {
    "lc_cell_meme": {
     "current": "67cd58f0-6586-11e9-b810-02420a00005a",
     "next": "67cd5918-6586-11e9-b810-02420a00005a",
     "previous": "67cd58be-6586-11e9-b810-02420a00005a"
    }
   },
   "source": [
    "**uniqコマンドにより重複排除を行う。さらにsortコマンドでアルファベット順にソートする。**"
   ]
  },
  {
   "cell_type": "code",
   "execution_count": null,
   "metadata": {
    "lc_cell_meme": {
     "current": "67cd5918-6586-11e9-b810-02420a00005a",
     "next": "67cd594a-6586-11e9-b810-02420a00005a",
     "previous": "67cd58f0-6586-11e9-b810-02420a00005a"
    },
    "lc_wrapper": {
     "log_history": [
      "/home/yoko69d621/cloud/.log/20191002/20191002-080657-0433.log"
     ]
    }
   },
   "outputs": [],
   "source": [
    "!(curl https://etherpad.openstack.org/p/2019-cloud-ac/export/txt 2> /dev/null)|cut -c1-8 |head -26|tail -15|tr [A-Z] [a-z]|uniq|sort"
   ]
  },
  {
   "cell_type": "markdown",
   "metadata": {
    "lc_cell_meme": {
     "current": "67cd594a-6586-11e9-b810-02420a00005a",
     "next": "67cd597c-6586-11e9-b810-02420a00005a",
     "previous": "67cd5918-6586-11e9-b810-02420a00005a"
    }
   },
   "source": [
    "**履修者全員のリストが入っている　/notebooks/cloud　との差分を　diffコマンドで　抽出して欠席者リストを得る。**"
   ]
  },
  {
   "cell_type": "code",
   "execution_count": null,
   "metadata": {
    "lc_cell_meme": {
     "current": "67cd597c-6586-11e9-b810-02420a00005a",
     "history": [
      {
       "current": "67cd597c-6586-11e9-b810-02420a00005a",
       "next": null,
       "previous": "67cd594a-6586-11e9-b810-02420a00005a"
      }
     ],
     "next": "0ba2dae0-e4e4-11e9-b447-02420a0102d6",
     "previous": "67cd594a-6586-11e9-b810-02420a00005a"
    },
    "lc_wrapper": {
     "log_history": [
      "/home/yoko69d621/cloud/.log/20191002/20191002-080632-0664.log",
      "/home/yoko69d621/cloud/.log/20191002/20191002-080809-0189.log",
      "/home/yoko69d621/cloud/.log/20191002/20191002-133444-0016.log",
      "/home/yoko69d621/cloud/.log/20191002/20191002-135229-0088.log"
     ]
    }
   },
   "outputs": [],
   "source": [
    "!(curl https://etherpad.openstack.org/p/2019-cloud-ac/export/txt 2> /dev/null)|cut -c1-8 |head -26|tail -15|tr [A-Z] [a-z]|uniq|sort|diff - ./cloud-list; :"
   ]
  },
  {
   "cell_type": "markdown",
   "metadata": {
    "lc_cell_meme": {
     "current": "0ba2dae0-e4e4-11e9-b447-02420a0102d6",
     "next": "0ba2df68-e4e4-11e9-b447-02420a0102d6",
     "previous": "67cd597c-6586-11e9-b810-02420a00005a"
    }
   },
   "source": [
    "**では簡単な設問に回答して理解度チェック**"
   ]
  },
  {
   "cell_type": "markdown",
   "metadata": {
    "lc_cell_meme": {
     "current": "0ba2df68-e4e4-11e9-b447-02420a0102d6",
     "history": [
      {
       "current": "0ba2df68-e4e4-11e9-b447-02420a0102d6",
       "next": null,
       "previous": "0ba2dae0-e4e4-11e9-b447-02420a0102d6"
      }
     ],
     "next": "9b37b0ea-e4e4-11e9-b447-02420a0102d6",
     "previous": "0ba2dae0-e4e4-11e9-b447-02420a0102d6"
    }
   },
   "source": [
    "**Quiz-１**\n",
    "**今週の出席者リストを作ることはできますか？**\n",
    "**そのコマンドを作って実行してみましょう。**"
   ]
  },
  {
   "cell_type": "code",
   "execution_count": null,
   "metadata": {
    "lc_cell_meme": {
     "current": "9b37b0ea-e4e4-11e9-b447-02420a0102d6",
     "next": "0ba2df68-e4e4-11e9-b447-02420a0102d6",
     "previous": "0ba2df68-e4e4-11e9-b447-02420a0102d6"
    }
   },
   "outputs": [],
   "source": [
    "##ここの下の行にコマンドを書いて実行してみてください。\n"
   ]
  },
  {
   "cell_type": "markdown",
   "metadata": {
    "lc_cell_meme": {
     "current": "0ba2df68-e4e4-11e9-b447-02420a0102d6",
     "history": [
      {
       "current": "0ba2df68-e4e4-11e9-b447-02420a0102d6",
       "next": null,
       "previous": "0ba2dae0-e4e4-11e9-b447-02420a0102d6"
      },
      {
       "current": "0ba2df68-e4e4-11e9-b447-02420a0102d6",
       "next": null,
       "previous": "9b37b0ea-e4e4-11e9-b447-02420a0102d6"
      },
      {
       "current": "0ba2df68-e4e4-11e9-b447-02420a0102d6",
       "next": "0ba2df68-e4e4-11e9-b447-02420a0102d6",
       "previous": "9b37b0ea-e4e4-11e9-b447-02420a0102d6"
      }
     ],
     "next": "11eb6b1e-e4e5-11e9-b447-02420a0102d6",
     "previous": "9b37b0ea-e4e4-11e9-b447-02420a0102d6"
    }
   },
   "source": [
    "**Quiz-2**\n",
    "**先週の出席者リストを作ることはできますか？**\n",
    "**そのコマンドを作って実行してみましょう。**"
   ]
  },
  {
   "cell_type": "code",
   "execution_count": null,
   "metadata": {
    "lc_cell_meme": {
     "current": "11eb6b1e-e4e5-11e9-b447-02420a0102d6",
     "next": "0ba2df68-e4e4-11e9-b447-02420a0102d6",
     "previous": "0ba2df68-e4e4-11e9-b447-02420a0102d6"
    }
   },
   "outputs": [],
   "source": [
    "##ここの下の行にコマンドを書いて実行してみてください。\n"
   ]
  },
  {
   "cell_type": "markdown",
   "metadata": {
    "lc_cell_meme": {
     "current": "0ba2df68-e4e4-11e9-b447-02420a0102d6",
     "history": [
      {
       "current": "0ba2df68-e4e4-11e9-b447-02420a0102d6",
       "next": null,
       "previous": "0ba2dae0-e4e4-11e9-b447-02420a0102d6"
      },
      {
       "current": "0ba2df68-e4e4-11e9-b447-02420a0102d6",
       "next": null,
       "previous": "9b37b0ea-e4e4-11e9-b447-02420a0102d6"
      },
      {
       "current": "0ba2df68-e4e4-11e9-b447-02420a0102d6",
       "next": null,
       "previous": "0ba2df68-e4e4-11e9-b447-02420a0102d6"
      },
      {
       "current": "0ba2df68-e4e4-11e9-b447-02420a0102d6",
       "next": null,
       "previous": "11eb6b1e-e4e5-11e9-b447-02420a0102d6"
      }
     ],
     "next": "24af314a-e4e5-11e9-b447-02420a0102d6",
     "previous": "11eb6b1e-e4e5-11e9-b447-02420a0102d6"
    }
   },
   "source": [
    "**Quiz-3**\n",
    "**先週の欠席者を抽出することはできますか？**\n",
    "**そのコマンドを作って実行してみましょう。**"
   ]
  },
  {
   "cell_type": "code",
   "execution_count": null,
   "metadata": {
    "lc_cell_meme": {
     "current": "24af314a-e4e5-11e9-b447-02420a0102d6",
     "history": [
      {
       "current": "24af314a-e4e5-11e9-b447-02420a0102d6",
       "next": null,
       "previous": "0ba2df68-e4e4-11e9-b447-02420a0102d6"
      }
     ],
     "next": "0ba2df68-e4e4-11e9-b447-02420a0102d6",
     "previous": "0ba2df68-e4e4-11e9-b447-02420a0102d6"
    }
   },
   "outputs": [],
   "source": [
    "##ここの下の行にコマンドを書いて実行してみてください。\n"
   ]
  },
  {
   "cell_type": "markdown",
   "metadata": {
    "lc_cell_meme": {
     "current": "0ba2df68-e4e4-11e9-b447-02420a0102d6",
     "history": [
      {
       "current": "0ba2df68-e4e4-11e9-b447-02420a0102d6",
       "next": null,
       "previous": "0ba2dae0-e4e4-11e9-b447-02420a0102d6"
      },
      {
       "current": "0ba2df68-e4e4-11e9-b447-02420a0102d6",
       "next": null,
       "previous": "9b37b0ea-e4e4-11e9-b447-02420a0102d6"
      },
      {
       "current": "0ba2df68-e4e4-11e9-b447-02420a0102d6",
       "next": null,
       "previous": "0ba2df68-e4e4-11e9-b447-02420a0102d6"
      },
      {
       "current": "0ba2df68-e4e4-11e9-b447-02420a0102d6",
       "next": null,
       "previous": "11eb6b1e-e4e5-11e9-b447-02420a0102d6"
      },
      {
       "current": "0ba2df68-e4e4-11e9-b447-02420a0102d6",
       "next": "24af314a-e4e5-11e9-b447-02420a0102d6",
       "previous": "11eb6b1e-e4e5-11e9-b447-02420a0102d6"
      },
      {
       "current": "0ba2df68-e4e4-11e9-b447-02420a0102d6",
       "next": "24af314a-e4e5-11e9-b447-02420a0102d6",
       "previous": "11eb6b1e-e4e5-11e9-b447-02420a0102d6"
      },
      {
       "current": "0ba2df68-e4e4-11e9-b447-02420a0102d6",
       "next": null,
       "previous": "0ba2df68-e4e4-11e9-b447-02420a0102d6"
      },
      {
       "current": "0ba2df68-e4e4-11e9-b447-02420a0102d6",
       "next": null,
       "previous": "0ba2df68-e4e4-11e9-b447-02420a0102d6"
      },
      {
       "current": "0ba2df68-e4e4-11e9-b447-02420a0102d6",
       "next": null,
       "previous": "0ba2df68-e4e4-11e9-b447-02420a0102d6"
      },
      {
       "current": "0ba2df68-e4e4-11e9-b447-02420a0102d6",
       "next": "47d5fd60-e4e6-11e9-b447-02420a0102d6",
       "previous": "47d5fa04-e4e6-11e9-b447-02420a0102d6"
      },
      {
       "current": "0ba2df68-e4e4-11e9-b447-02420a0102d6",
       "next": "47d5fd60-e4e6-11e9-b447-02420a0102d6",
       "previous": "47d5fa04-e4e6-11e9-b447-02420a0102d6"
      },
      {
       "current": "0ba2df68-e4e4-11e9-b447-02420a0102d6",
       "next": "47d5fd60-e4e6-11e9-b447-02420a0102d6",
       "previous": "47d5fa04-e4e6-11e9-b447-02420a0102d6"
      },
      {
       "current": "0ba2df68-e4e4-11e9-b447-02420a0102d6",
       "next": "a0ed2806-e4e6-11e9-b447-02420a0102d6",
       "previous": "47d5fa04-e4e6-11e9-b447-02420a0102d6"
      },
      {
       "current": "0ba2df68-e4e4-11e9-b447-02420a0102d6",
       "next": "a0ed2806-e4e6-11e9-b447-02420a0102d6",
       "previous": "47d5fa04-e4e6-11e9-b447-02420a0102d6"
      },
      {
       "current": "0ba2df68-e4e4-11e9-b447-02420a0102d6",
       "next": "a0ed2806-e4e6-11e9-b447-02420a0102d6",
       "previous": "47d5fa04-e4e6-11e9-b447-02420a0102d6"
      }
     ],
     "next": "47d5fa04-e4e6-11e9-b447-02420a0102d6",
     "previous": "24af314a-e4e5-11e9-b447-02420a0102d6"
    }
   },
   "source": [
    "**Quiz-4**\n",
    "**今週の出席者から一人ランダムに選ぶコマンドを作ってみましょう。**\n",
    "**そして、そのコマンドを実際に実行してみましょう。**\n",
    "\n",
    "Hint:shufコマンドというコマンドがあります。"
   ]
  },
  {
   "cell_type": "code",
   "execution_count": null,
   "metadata": {
    "lc_cell_meme": {
     "current": "47d5fa04-e4e6-11e9-b447-02420a0102d6",
     "next": "0ba2df68-e4e4-11e9-b447-02420a0102d6",
     "previous": "0ba2df68-e4e4-11e9-b447-02420a0102d6"
    }
   },
   "outputs": [],
   "source": [
    "##ここの下の行にコマンドを書いて実行してみてください。\n"
   ]
  },
  {
   "cell_type": "markdown",
   "metadata": {
    "lc_cell_meme": {
     "current": "0ba2df68-e4e4-11e9-b447-02420a0102d6",
     "history": [
      {
       "current": "0ba2df68-e4e4-11e9-b447-02420a0102d6",
       "next": null,
       "previous": "0ba2dae0-e4e4-11e9-b447-02420a0102d6"
      },
      {
       "current": "0ba2df68-e4e4-11e9-b447-02420a0102d6",
       "next": null,
       "previous": "9b37b0ea-e4e4-11e9-b447-02420a0102d6"
      },
      {
       "current": "0ba2df68-e4e4-11e9-b447-02420a0102d6",
       "next": null,
       "previous": "0ba2df68-e4e4-11e9-b447-02420a0102d6"
      },
      {
       "current": "0ba2df68-e4e4-11e9-b447-02420a0102d6",
       "next": null,
       "previous": "11eb6b1e-e4e5-11e9-b447-02420a0102d6"
      },
      {
       "current": "0ba2df68-e4e4-11e9-b447-02420a0102d6",
       "next": "24af314a-e4e5-11e9-b447-02420a0102d6",
       "previous": "11eb6b1e-e4e5-11e9-b447-02420a0102d6"
      },
      {
       "current": "0ba2df68-e4e4-11e9-b447-02420a0102d6",
       "next": "24af314a-e4e5-11e9-b447-02420a0102d6",
       "previous": "11eb6b1e-e4e5-11e9-b447-02420a0102d6"
      },
      {
       "current": "0ba2df68-e4e4-11e9-b447-02420a0102d6",
       "next": null,
       "previous": "0ba2df68-e4e4-11e9-b447-02420a0102d6"
      },
      {
       "current": "0ba2df68-e4e4-11e9-b447-02420a0102d6",
       "next": null,
       "previous": "0ba2df68-e4e4-11e9-b447-02420a0102d6"
      },
      {
       "current": "0ba2df68-e4e4-11e9-b447-02420a0102d6",
       "next": null,
       "previous": "0ba2df68-e4e4-11e9-b447-02420a0102d6"
      },
      {
       "current": "0ba2df68-e4e4-11e9-b447-02420a0102d6",
       "next": "47d5fd60-e4e6-11e9-b447-02420a0102d6",
       "previous": "47d5fa04-e4e6-11e9-b447-02420a0102d6"
      },
      {
       "current": "0ba2df68-e4e4-11e9-b447-02420a0102d6",
       "next": "47d5fd60-e4e6-11e9-b447-02420a0102d6",
       "previous": "47d5fa04-e4e6-11e9-b447-02420a0102d6"
      },
      {
       "current": "0ba2df68-e4e4-11e9-b447-02420a0102d6",
       "next": "47d5fd60-e4e6-11e9-b447-02420a0102d6",
       "previous": "47d5fa04-e4e6-11e9-b447-02420a0102d6"
      },
      {
       "current": "0ba2df68-e4e4-11e9-b447-02420a0102d6",
       "next": "a0ed2806-e4e6-11e9-b447-02420a0102d6",
       "previous": "47d5fa04-e4e6-11e9-b447-02420a0102d6"
      },
      {
       "current": "0ba2df68-e4e4-11e9-b447-02420a0102d6",
       "next": "a0ed2806-e4e6-11e9-b447-02420a0102d6",
       "previous": "47d5fa04-e4e6-11e9-b447-02420a0102d6"
      }
     ],
     "next": "a0ed2806-e4e6-11e9-b447-02420a0102d6",
     "previous": "47d5fa04-e4e6-11e9-b447-02420a0102d6"
    }
   },
   "source": [
    "**Quiz-5**\n",
    "**今週の出席者から一人ランダムに選び、その人のニックネームを表示するようにしてみましょう。**"
   ]
  },
  {
   "cell_type": "code",
   "execution_count": null,
   "metadata": {
    "lc_cell_meme": {
     "current": "a0ed2806-e4e6-11e9-b447-02420a0102d6",
     "next": null,
     "previous": "0ba2df68-e4e4-11e9-b447-02420a0102d6"
    }
   },
   "outputs": [],
   "source": [
    "##ここの下の行にコマンドを書いて実行してみてください。\n"
   ]
  }
 ],
 "metadata": {
  "kernelspec": {
   "display_name": "Python 3",
   "language": "python",
   "name": "python3"
  },
  "language_info": {
   "file_extension": ".py",
   "mimetype": "text/x-python",
   "name": "python",
   "nbconvert_exporter": "python",
   "pygments_lexer": "ipython3",
   "version": "3.7.3"
  },
  "lc_notebook_meme": {
   "current": "67cd5382-6586-11e9-b810-02420a00005a",
   "lc_server_signature": {
    "current": {
     "notebook_dir": "/home/yoko69d621",
     "notebook_path": "/cloud",
     "server_url": "https://nb03.ecloud.nii.ac.jp/user/yoko69d621/",
     "signature_id": "5e786c6e-5fea-11e9-b810-02420a00005a"
    },
    "history": [
     {
      "notebook_dir": "/home/yoko69d621",
      "notebook_path": "/textbook/cloud",
      "server_url": "https://nb03.ecloud.nii.ac.jp/user/yoko69d621/",
      "signature_id": "5e786c6e-5fea-11e9-b810-02420a00005a"
     }
    ]
   }
  },
  "toc": {
   "base_numbering": 1,
   "nav_menu": {},
   "number_sections": true,
   "sideBar": true,
   "skip_h1_title": false,
   "title_cell": "Table of Contents",
   "title_sidebar": "Contents",
   "toc_cell": false,
   "toc_position": {},
   "toc_section_display": true,
   "toc_window_display": false
  }
 },
 "nbformat": 4,
 "nbformat_minor": 2
}
